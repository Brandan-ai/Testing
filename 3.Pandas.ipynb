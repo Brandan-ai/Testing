{
 "cells": [
  {
   "cell_type": "markdown",
   "metadata": {},
   "source": [
    "# Pandas\n",
    "\n",
    "A Python library for data manipulation and analysis. It offers data structures and operations specifically for data. Most Machine Learning Libraries (including SciKitLearn, Keros, TensorFlow) are optimised to work with Pandas objects.\n",
    "\n",
    "The [Pandas documentation](https://pandas.pydata.org/docs/user_guide/10min.html) is very user friendly."
   ]
  },
  {
   "cell_type": "markdown",
   "metadata": {},
   "source": [
    "#### DataFrame\n",
    "\n",
    "A two-dimensional data structure that holds data in a Numpy array and has the extra functionality of numbered rows and column labels."
   ]
  },
  {
   "cell_type": "code",
   "execution_count": null,
   "metadata": {},
   "outputs": [],
   "source": [
    "# importing Numpy & Pandas libraries\n",
    "import numpy as np\n",
    "import pandas as pd"
   ]
  },
  {
   "cell_type": "markdown",
   "metadata": {},
   "source": [
    "| Feature | List | NPArray | Dataframe |\n",
    "| ------ | -----: | -----: | -----: |\n",
    "| Builtin | Y | N | N |\n",
    "| Multiple data types | Y | N | N |\n",
    "| Multiple dimensions | N | Y | Y |\n",
    "| Arithmetic Operations | N | Y | Y |\n",
    "| Process intensive | Y | N | N |\n",
    "| Optimised for ML | N | Y | Y |\n",
    "| Lables | N | N | Y |"
   ]
  },
  {
   "cell_type": "code",
   "execution_count": null,
   "metadata": {},
   "outputs": [],
   "source": [
    "# Create 2 lists\n",
    "list_1 = [0, 1, 2, 3, 4, 5, 6, 7, 8, 9]\n",
    "list_2 = [9, 8, 7, 6, 5, 4, 3, 2, 1, 0]\n",
    "dataframe = pd.DataFrame(\n",
    "    {\n",
    "        \"Date & Time\": pd.Timestamp.now(),\n",
    "        \"List 1\": list_1,\n",
    "        \"List 2\": list_2,\n",
    "    }\n",
    ")\n",
    "print(dataframe)\n"
   ]
  },
  {
   "cell_type": "markdown",
   "metadata": {},
   "source": [
    "#### View the data"
   ]
  },
  {
   "cell_type": "code",
   "execution_count": null,
   "metadata": {},
   "outputs": [],
   "source": [
    "# Print the data types for each column\n",
    "dtypes = dataframe.dtypes\n",
    "print(dtypes)"
   ]
  },
  {
   "cell_type": "code",
   "execution_count": null,
   "metadata": {},
   "outputs": [],
   "source": [
    "# Print first 5 rows of the dataframe\n",
    "print(dataframe.head())"
   ]
  },
  {
   "cell_type": "code",
   "execution_count": null,
   "metadata": {},
   "outputs": [],
   "source": [
    "# Print last 5 rows of the dataframe\n",
    "print(dataframe.tail())"
   ]
  },
  {
   "cell_type": "code",
   "execution_count": null,
   "metadata": {},
   "outputs": [],
   "source": [
    "# Print quick statistics of the dataframe\n",
    "print(dataframe.describe())"
   ]
  },
  {
   "cell_type": "code",
   "execution_count": null,
   "metadata": {},
   "outputs": [],
   "source": [
    "# Print the shape of the dataframe\n",
    "shape = dataframe.shape\n",
    "print(shape)"
   ]
  },
  {
   "cell_type": "code",
   "execution_count": null,
   "metadata": {},
   "outputs": [],
   "source": [
    "# Print the number of dimensions of the dataframe\n",
    "dimensions = dataframe.ndim\n",
    "print(dimensions)"
   ]
  },
  {
   "cell_type": "code",
   "execution_count": null,
   "metadata": {},
   "outputs": [],
   "source": [
    "# Print the total number of elements in the dataframe\n",
    "size = dataframe.size\n",
    "print(size) "
   ]
  },
  {
   "cell_type": "code",
   "execution_count": null,
   "metadata": {},
   "outputs": [],
   "source": [
    "# Print the number of rows in the dataframe\n",
    "rows = len(dataframe)\n",
    "print(rows) "
   ]
  },
  {
   "cell_type": "code",
   "execution_count": null,
   "metadata": {},
   "outputs": [],
   "source": [
    "# Print the number of columns in the dataframe\n",
    "columns = len(dataframe.columns)\n",
    "print(columns)  "
   ]
  }
 ],
 "metadata": {
  "kernelspec": {
   "display_name": "Python 3",
   "language": "python",
   "name": "python3"
  },
  "language_info": {
   "codemirror_mode": {
    "name": "ipython",
    "version": 3
   },
   "file_extension": ".py",
   "mimetype": "text/x-python",
   "name": "python",
   "nbconvert_exporter": "python",
   "pygments_lexer": "ipython3",
   "version": "3.12.1"
  }
 },
 "nbformat": 4,
 "nbformat_minor": 2
}
