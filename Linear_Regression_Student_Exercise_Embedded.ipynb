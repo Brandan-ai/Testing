{
 "cells": [
  {
   "cell_type": "markdown",
   "metadata": {},
   "source": [
    "# Linear Regression: Hands-on Notebook\n",
    "\n",
    "**Goal:** Learn how to load data, visualise it, fit a Linear Regression model, evaluate it, and use OOP to wrap scikit-learn.\n",
    "\n",
    "**You will:**\n",
    "- Plot the relationship between hours studied and exam scores\n",
    "- Fit a linear regression model using scikit-learn\n",
    "- Interpret slope and intercept\n",
    "- Evaluate with Mean Squared Error (MSE) and \\(R^2\\)\n",
    "- Create a small OOP wrapper class for regression\n",
    "- (Extension) Compare linear vs polynomial regression on the same data\n",
    "\n",
    "**Dataset**: `study_scores.csv` (hours, score) — already provided in this workspace.\n"
   ]
  },
  {
   "cell_type": "markdown",
   "metadata": {},
   "source": [
    "## 1. Setup\n",
    "Run this cell to import libraries. If anything errors, ask your teacher to help install packages."
   ]
  },
  {
   "cell_type": "code",
   "execution_count": 1,
   "metadata": {},
   "outputs": [
    {
     "name": "stdout",
     "output_type": "stream",
     "text": [
      "Libraries imported successfully!\n"
     ]
    }
   ],
   "source": [
    "import numpy as np\n",
    "import matplotlib.pyplot as plt\n",
    "from sklearn.linear_model import LinearRegression\n",
    "from sklearn.metrics import mean_squared_error, r2_score\n",
    "from sklearn.model_selection import train_test_split\n",
    "from sklearn.preprocessing import PolynomialFeatures\n",
    "from sklearn.pipeline import Pipeline\n",
    "import pandas as pd\n",
    "import pathlib\n",
    "print('Libraries imported successfully!')"
   ]
  },
  {
   "cell_type": "markdown",
   "metadata": {},
   "source": [
    "## 2. Load the dataset\n",
    "We will load `study_scores.csv` (hours vs exam scores)."
   ]
  },
  {
   "cell_type": "code",
   "execution_count": 2,
   "metadata": {},
   "outputs": [
    {
     "data": {
      "text/html": [
       "<div>\n",
       "<style scoped>\n",
       "    .dataframe tbody tr th:only-of-type {\n",
       "        vertical-align: middle;\n",
       "    }\n",
       "\n",
       "    .dataframe tbody tr th {\n",
       "        vertical-align: top;\n",
       "    }\n",
       "\n",
       "    .dataframe thead th {\n",
       "        text-align: right;\n",
       "    }\n",
       "</style>\n",
       "<table border=\"1\" class=\"dataframe\">\n",
       "  <thead>\n",
       "    <tr style=\"text-align: right;\">\n",
       "      <th></th>\n",
       "      <th>hours</th>\n",
       "      <th>score</th>\n",
       "    </tr>\n",
       "  </thead>\n",
       "  <tbody>\n",
       "    <tr>\n",
       "      <th>0</th>\n",
       "      <td>1</td>\n",
       "      <td>51.36</td>\n",
       "    </tr>\n",
       "    <tr>\n",
       "      <th>1</th>\n",
       "      <td>2</td>\n",
       "      <td>56.97</td>\n",
       "    </tr>\n",
       "    <tr>\n",
       "      <th>2</th>\n",
       "      <td>3</td>\n",
       "      <td>65.30</td>\n",
       "    </tr>\n",
       "    <tr>\n",
       "      <th>3</th>\n",
       "      <td>4</td>\n",
       "      <td>67.81</td>\n",
       "    </tr>\n",
       "    <tr>\n",
       "      <th>4</th>\n",
       "      <td>5</td>\n",
       "      <td>73.84</td>\n",
       "    </tr>\n",
       "  </tbody>\n",
       "</table>\n",
       "</div>"
      ],
      "text/plain": [
       "   hours  score\n",
       "0      1  51.36\n",
       "1      2  56.97\n",
       "2      3  65.30\n",
       "3      4  67.81\n",
       "4      5  73.84"
      ]
     },
     "execution_count": 2,
     "metadata": {},
     "output_type": "execute_result"
    }
   ],
   "source": [
    "import io\n",
    "import pandas as pd\n",
    "\n",
    "# Embedded CSV data (hours, score)\n",
    "csv_data = '''hours,score\n",
    "1,51.36\n",
    "2,56.97\n",
    "3,65.3\n",
    "4,67.81\n",
    "5,73.84\n",
    "6,81.13\n",
    "7,87.73\n",
    "8,92.18\n",
    "9,99.77\n",
    "10,104.37\n",
    "'''\n",
    "\n",
    "df = pd.read_csv(io.StringIO(csv_data))\n",
    "df.head()"
   ]
  },
  {
   "cell_type": "markdown",
   "metadata": {},
   "source": [
    "## 3. Visualise the data\n",
    "Make a scatter plot to see if a straight line looks reasonable.\n",
    "\n",
    "**Rule for this course:** When making charts, use `matplotlib` (no seaborn), create one chart per cell, and don't set specific colors."
   ]
  },
  {
   "cell_type": "code",
   "execution_count": 3,
   "metadata": {},
   "outputs": [
    {
     "ename": "SyntaxError",
     "evalue": "invalid syntax (2539927760.py, line 8)",
     "output_type": "error",
     "traceback": [
      "  \u001b[36mCell\u001b[39m\u001b[36m \u001b[39m\u001b[32mIn[3]\u001b[39m\u001b[32m, line 8\u001b[39m\n\u001b[31m    \u001b[39m\u001b[31mSplit into a training set and a test set, then fit the model and inspect the slope and intercept.\u001b[39m\n          ^\n\u001b[31mSyntaxError\u001b[39m\u001b[31m:\u001b[39m invalid syntax\n"
     ]
    }
   ],
   "source": [
    "plt.figure()\n",
    "plt.scatter(df['hours'], df['score'])\n",
    "plt.xlabel('Hours studied')\n",
    "plt.ylabel('Exam score')\n",
    "plt.title('Study hours vs exam score')\n",
    "plt.show()\n",
    "## 4. Fit a Linear Regression model\n",
    "Split into a training set and a test set, then fit the model and inspect the slope and intercept."
   ]
  },
  {
   "cell_type": "code",
   "execution_count": 4,
   "metadata": {},
   "outputs": [
    {
     "name": "stdout",
     "output_type": "stream",
     "text": [
      "Slope (coef_): [5.84710396]\n",
      "Intercept: 45.771435643564345\n"
     ]
    }
   ],
   "source": [
    "X = df[['hours']].values  # 2D array for scikit-learn\n",
    "y = df['score'].values\n",
    "\n",
    "X_train, X_test, y_train, y_test = train_test_split(X, y, test_size=0.3, random_state=42)\n",
    "\n",
    "lin_reg = LinearRegression()\n",
    "lin_reg.fit(X_train, y_train)\n",
    "\n",
    "print('Slope (coef_):', lin_reg.coef_)\n",
    "print('Intercept:', lin_reg.intercept_)"
   ]
  },
  {
   "cell_type": "markdown",
   "metadata": {},
   "source": [
    "## 5. Evaluate the model\n",
    "Use Mean Squared Error (MSE) and \\(R^2\\) to evaluate on the test set."
   ]
  },
  {
   "cell_type": "code",
   "execution_count": null,
   "metadata": {},
   "outputs": [],
   "source": [
    "y_pred = lin_reg.predict(X_test)\n",
    "mse = mean_squared_error(y_test, y_pred)\n",
    "r2 = r2_score(y_test, y_pred)\n",
    "print('Test MSE:', round(mse, 2))\n",
    "print('Test R^2:', round(r2, 3))"
   ]
  },
  {
   "cell_type": "markdown",
   "metadata": {},
   "source": [
    "## 6. Visualise predictions vs actual\n",
    "Plot the line of best fit on top of the scatter plot."
   ]
  },
  {
   "cell_type": "code",
   "execution_count": null,
   "metadata": {},
   "outputs": [],
   "source": [
    "plt.figure()\n",
    "plt.scatter(X, y)\n",
    "x_line = np.linspace(X.min(), X.max(), 100).reshape(-1, 1)\n",
    "y_line = lin_reg.predict(x_line)\n",
    "plt.plot(x_line, y_line)\n",
    "plt.xlabel('Hours studied')\n",
    "plt.ylabel('Exam score')\n",
    "plt.title('Best fit line on all data')\n",
    "plt.show()"
   ]
  },
  {
   "cell_type": "markdown",
   "metadata": {},
   "source": [
    "## 7. Residuals (errors)\n",
    "Residual = Actual − Predicted. Let's compute residuals for the test set and inspect the Mean Squared Error manually."
   ]
  },
  {
   "cell_type": "code",
   "execution_count": null,
   "metadata": {},
   "outputs": [],
   "source": [
    "residuals = y_test - y_pred\n",
    "manual_mse = np.mean(residuals ** 2)\n",
    "print('First 5 residuals:', np.round(residuals[:5], 2))\n",
    "print('Manual MSE:', round(manual_mse, 2))"
   ]
  },
  {
   "cell_type": "markdown",
   "metadata": {},
   "source": [
    "## 8. Make new predictions\n",
    "What score would the model predict for a student who studies 6.5 hours? Try other values too."
   ]
  },
  {
   "cell_type": "code",
   "execution_count": null,
   "metadata": {},
   "outputs": [],
   "source": [
    "new_hours = np.array([[6.5]])\n",
    "predicted_score = lin_reg.predict(new_hours)\n",
    "print('Predicted score for 6.5 hours:', round(float(predicted_score[0]), 2))"
   ]
  },
  {
   "cell_type": "markdown",
   "metadata": {},
   "source": [
    "## 9. OOP Wrapper for Regression (Assessment-ready)\n",
    "Create a simple class that wraps scikit-learn's LinearRegression and exposes `fit`, `predict`, and `score`."
   ]
  },
  {
   "cell_type": "code",
   "execution_count": null,
   "metadata": {},
   "outputs": [],
   "source": [
    "class MyLinearRegressor:\n",
    "    def __init__(self):\n",
    "        self.model = LinearRegression()\n",
    "\n",
    "    def fit(self, X, y):\n",
    "        self.model.fit(X, y)\n",
    "        return self\n",
    "\n",
    "    def predict(self, X):\n",
    "        return self.model.predict(X)\n",
    "\n",
    "    def score(self, X, y):\n",
    "        y_pred = self.predict(X)\n",
    "        return r2_score(y, y_pred)\n",
    "\n",
    "# Demo usage\n",
    "wrapper = MyLinearRegressor().fit(X_train, y_train)\n",
    "print('Wrapper R^2 on test set:', round(wrapper.score(X_test, y_test), 3))"
   ]
  },
  {
   "cell_type": "markdown",
   "metadata": {},
   "source": [
    "## 10. (Extension) Polynomial Regression\n",
    "When the relationship is curved, a polynomial model may fit better. We'll add degree-2 features and compare \\(R^2\\)."
   ]
  },
  {
   "cell_type": "code",
   "execution_count": null,
   "metadata": {},
   "outputs": [],
   "source": [
    "poly_pipeline = Pipeline([\n",
    "    ('poly', PolynomialFeatures(degree=2, include_bias=False)),\n",
    "    ('lin', LinearRegression())\n",
    "])\n",
    "poly_pipeline.fit(X_train, y_train)\n",
    "r2_poly = poly_pipeline.score(X_test, y_test)\n",
    "r2_lin = lin_reg.score(X_test, y_test)\n",
    "print('Linear R^2:', round(r2_lin, 3))\n",
    "print('Polynomial (deg=2) R^2:', round(r2_poly, 3))\n",
    "\n",
    "# Visualise both fits on the full dataset (separate plot)\n",
    "plt.figure()\n",
    "plt.scatter(X, y)\n",
    "x_line = np.linspace(X.min(), X.max(), 100).reshape(-1, 1)\n",
    "y_line_lin = lin_reg.predict(x_line)\n",
    "y_line_poly = poly_pipeline.predict(x_line)\n",
    "plt.plot(x_line, y_line_lin, label='Linear fit')\n",
    "plt.plot(x_line, y_line_poly, label='Polynomial fit (deg=2)')\n",
    "plt.xlabel('Hours studied')\n",
    "plt.ylabel('Exam score')\n",
    "plt.title('Linear vs Polynomial fit')\n",
    "plt.legend()\n",
    "plt.show()"
   ]
  },
  {
   "cell_type": "markdown",
   "metadata": {},
   "source": [
    "## 11. Your Turn — Tasks (submit to Canvas)\n",
    "1. Change the train/test split size and re-run. Record how \\(R^2\\) changes.\n",
    "2. Try adding an outlier row (e.g., `hours=10, score=40`). What happens to slope/intercept and \\(R^2\\)?\n",
    "3. Update `MyLinearRegressor` to also return MSE from a new method `mse(X, y)`.\n",
    "4. (Extension) Try `PolynomialFeatures(degree=3)`. Does it overfit? Explain using train vs test \\(R^2\\).\n"
   ]
  },
  {
   "cell_type": "code",
   "execution_count": null,
   "id": "2cde035c",
   "metadata": {},
   "outputs": [],
   "source": [
    "import numpy as np\n",
    "import matplotlib.pyplot as plt\n",
    "from sklearn.linear_model import LinearRegression\n",
    "\n",
    "x_train = np.array([[0],[1],[3],[4],[5],[6],[7],[8],[9],[10]])\n",
    "y_train = np.array([[51.36,59.97,65.3,67.81,73.84,81.13,87.73,92.18,99.77,104.37]])\n",
    "\n",
    "model = LinearRegressionmodel.fit(x_train, y_train)\n",
    "\n",
    "n = model.coef_[0]\n",
    "b = model.intercept\n",
    "print(f\"Slope (n): (n:.n2)\")\n",
    "print(f\"Intercept: (b): (b:.2f)\")\n",
    "y_pred = model.predict(x_train)\n",
    "plt.scatter(x_train, y_train,marker='x',c='r',label='Actual Value')\n",
    "plt.plot(x_train, y pred,, c='b' , label=f\"Best Fit Line (y=(n:.2f)x+(b:.2f))\")\n"
   ]
  },
  {
   "cell_type": "code",
   "execution_count": null,
   "id": "f93d4d47",
   "metadata": {},
   "outputs": [],
   "source": []
  },
  {
   "cell_type": "markdown",
   "id": "b49d14e9",
   "metadata": {},
   "source": []
  },
  {
   "cell_type": "code",
   "execution_count": null,
   "id": "b93e4cef",
   "metadata": {},
   "outputs": [],
   "source": []
  }
 ],
 "metadata": {
  "kernelspec": {
   "display_name": "Python 3",
   "language": "python",
   "name": "python3"
  },
  "language_info": {
   "codemirror_mode": {
    "name": "ipython",
    "version": 3
   },
   "file_extension": ".py",
   "mimetype": "text/x-python",
   "name": "python",
   "nbconvert_exporter": "python",
   "pygments_lexer": "ipython3",
   "version": "3.12.1"
  }
 },
 "nbformat": 4,
 "nbformat_minor": 5
}
